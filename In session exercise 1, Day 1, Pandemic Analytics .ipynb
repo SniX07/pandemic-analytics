{
 "cells": [
  {
   "cell_type": "markdown",
   "metadata": {},
   "source": [
    "In session exercise 1 : Pandemic Analytics "
   ]
  },
  {
   "cell_type": "code",
   "execution_count": 15,
   "metadata": {},
   "outputs": [
    {
     "name": "stdout",
     "output_type": "stream",
     "text": [
      "district is Gwalior\n",
      "total infected by COVID19 1234\n",
      "people infected on june 10th 12\n",
      "people infected on june 11th 2\n",
      "people infected on june 12th 13\n",
      "percentage change in infected given in the past three days 433.3333333333333\n"
     ]
    }
   ],
   "source": [
    "corona_infected_total=1234\n",
    "infected_june10=12\n",
    "infected_june11=2\n",
    "infected_june12=13\n",
    "\n",
    "percentage_increased_second_day=((infected_june11 - infected_june10 / infected_june10)*100)\n",
    "\n",
    "percentage_increased_third_day =((infected_june12 - infected_june11 / infected_june11)*100)\n",
    "\n",
    "sum_of_percentage_increased = percentage_increased_second_day + percentage_increased_during_third_day\n",
    "\n",
    "average_percentage_increased_in_three_days = sum_of_percentage_increased / 3\n",
    "\n",
    "district = \"is Gwalior\"\n",
    "print(\"district\",district)\n",
    "print(\"total infected by COVID19\",corona_infected_total)\n",
    "print(\"people infected on june 10th\",infected_june10)\n",
    "print(\"people infected on june 11th\",infected_june11)\n",
    "print(\"people infected on june 12th\",infected_june12)\n",
    "print(\"percentage change in infected given in the past three days\", average_percentage_increased_in_three_days)"
   ]
  },
  {
   "cell_type": "code",
   "execution_count": null,
   "metadata": {},
   "outputs": [],
   "source": []
  },
  {
   "cell_type": "code",
   "execution_count": null,
   "metadata": {},
   "outputs": [],
   "source": []
  }
 ],
 "metadata": {
  "kernelspec": {
   "display_name": "Python 3",
   "language": "python",
   "name": "python3"
  },
  "language_info": {
   "codemirror_mode": {
    "name": "ipython",
    "version": 3
   },
   "file_extension": ".py",
   "mimetype": "text/x-python",
   "name": "python",
   "nbconvert_exporter": "python",
   "pygments_lexer": "ipython3",
   "version": "3.8.3"
  }
 },
 "nbformat": 4,
 "nbformat_minor": 4
}
