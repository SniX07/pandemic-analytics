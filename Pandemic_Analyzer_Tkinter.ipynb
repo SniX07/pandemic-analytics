{
 "cells": [
  {
   "cell_type": "code",
   "execution_count": 18,
   "metadata": {},
   "outputs": [],
   "source": [
    "import tkinter as tk\n",
    "pandemic = tk.Tk()\n",
    "from tkinter import *\n",
    "tkvar1 = IntVar(master)\n",
    "\n",
    "def ifr_calculator():\n",
    "    infected = int(inf.get())\n",
    "    recovered = int(rec.get())\n",
    "    deceased = int(dec.get())\n",
    "    \n",
    "    Ans1 = (int(dec.get()) / int(inf.get()))*100\n",
    "    tkvar1.set(Ans1)\n",
    "    Entry(pandemic, text = \"%s\" %(tkvar1)).grid(row =9, column =1)\n",
    "    \n",
    "def cmr_calculator():\n",
    "    infected = int(inf.get())\n",
    "    recovered = int(rec.get())\n",
    "    deceased = int(dec.get())\n",
    "    \n",
    "    total = infected + recovered + deceased\n",
    "    \n",
    "    Ans2 = (deceased/total)*100\n",
    "    tkvar1.set(Ans2)\n",
    "    Entry(pandemic, text = \"%s\" %(tkvar1)).grid(row =9, column =1)\n",
    "    \n",
    "    \n",
    "pandemic.title(\"Pandemic Analytics Engine\")\n",
    "label = tk.Label(pandemic, text = \"Pandemic Analyzer\", fg = \"blue\", font = 50).grid(row=1, sticky='w')"
   ]
  },
  {
   "cell_type": "code",
   "execution_count": 19,
   "metadata": {},
   "outputs": [],
   "source": [
    "tk.Label(pandemic, text=\"Select State : \", fg= \"white\", font = 50).grid(row=2, sticky = 'w')\n",
    "\n",
    "mainframe = tk.Frame(pandemic)\n",
    "mainframe.grid(column=1, row=2, sticky = 'w')\n",
    "mainframe.columnconfigure(1, weight = 1)\n",
    "mainframe.rowconfigure(2, weight =1)\n",
    "\n",
    "tkvar = StringVar(pandemic)\n",
    "choice = {'Andaman and Nicobar', 'Andhra Pradesh', 'Arunachal Pradesh', 'Assam', 'Bihar', 'Chandigarh', 'Chhattisgarh' ,\n",
    "            'Dadra and Nagar Havei', 'Dehli', 'Goa', 'Gujrat', 'Haryana', 'Himachal Pradesh', 'Jammu and Kashmir', \n",
    "            'Jharkand', 'Karnataka', 'Kerala','Ladakh', 'Lakshadweep', 'Madhya Pradesh', 'Maharashtra', 'Manipur', \n",
    "            'Meghalaya', 'Mizoram', 'Nagaland', 'odisha' ,'Puducherry', 'Punjab', 'Rajasthan', 'Sikkim', 'Tamil Nadu', \n",
    "            'Telengana', 'Tripura', 'uttar Pradesh', 'Uttarakhand', 'West Bengal'}\n",
    "tkvar.set('Choose a State')\n",
    "\n",
    "popUpMenu = OptionMenu(mainframe, tkvar, *choice)\n",
    "popUpMenu.grid(row = 2, column =1)\n",
    "\n",
    "def change_Dropdown(*args):\n",
    "    print(tkvar.get())"
   ]
  },
  {
   "cell_type": "code",
   "execution_count": 20,
   "metadata": {},
   "outputs": [],
   "source": [
    "tk.Label(pandemic, text=\"Infected :\",fg = \"yellow\", font = 50).grid(row=3, sticky='w')\n",
    "tk.Label(pandemic, text=\"Recovered :\", fg = \"green\", font = 50 ).grid(row=4, sticky='W')\n",
    "tk.Label(pandemic, text=\"Deceased :\",fg = \"red\", font = 50).grid(row=5, sticky='W')\n",
    "\n",
    "inf = tk.Entry(pandemic, bg = \"yellow\")\n",
    "rec = tk.Entry(pandemic, bg = \"green\")\n",
    "dec = tk.Entry(pandemic, bg = \"red\")\n",
    "\n",
    "inf.grid(row=3, column=1)\n",
    "rec.grid(row=4, column=1)\n",
    "dec.grid(row=5, column=1)\n",
    "\n",
    "button1=tk.Button(pandemic, text=\"IFR\", command = ifr_calculator, width = 10)\n",
    "button1.grid(row=7, column=1)\n",
    "\n",
    "button1=tk.Button(pandemic, text=\"CMR\",command = cmr_calculator, width = 10 )\n",
    "button1.grid(row=7, column=2)\n",
    "\n",
    "tk.Label(pandemic, text=\"Value :\",fg = \"blue\", font = 50).grid(row=9, sticky='W')\n",
    "enter = tk.Entry(pandemic)\n",
    "enter.grid(row = 9, column = 1)\n",
    "\n",
    "master.mainloop()"
   ]
  },
  {
   "cell_type": "code",
   "execution_count": null,
   "metadata": {},
   "outputs": [],
   "source": []
  }
 ],
 "metadata": {
  "kernelspec": {
   "display_name": "Python 3",
   "language": "python",
   "name": "python3"
  },
  "language_info": {
   "codemirror_mode": {
    "name": "ipython",
    "version": 3
   },
   "file_extension": ".py",
   "mimetype": "text/x-python",
   "name": "python",
   "nbconvert_exporter": "python",
   "pygments_lexer": "ipython3",
   "version": "3.8.3"
  }
 },
 "nbformat": 4,
 "nbformat_minor": 4
}
