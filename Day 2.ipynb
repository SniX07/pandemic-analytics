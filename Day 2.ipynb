{
 "cells": [
  {
   "cell_type": "markdown",
   "metadata": {},
   "source": [
    "Insession exercise : For a district \"Mumbai\", using the IFR function to calculate the Infected Fatality Rate & calculating the CMR ( Crude Mortality Rate ). "
   ]
  },
  {
   "cell_type": "code",
   "execution_count": 13,
   "metadata": {},
   "outputs": [],
   "source": [
    "#Function to calculate the IFR \n",
    "\n",
    "def ifr(infected, deaths) :\n",
    "    \n",
    "    ifr = (deaths/infected)*100\n",
    "    \n",
    "    print(\"The IFR = {}%\".format(ifr))"
   ]
  },
  {
   "cell_type": "code",
   "execution_count": 20,
   "metadata": {},
   "outputs": [
    {
     "name": "stdout",
     "output_type": "stream",
     "text": [
      "The IFR = 4.196316143957364%\n",
      "district is Mumbai\n"
     ]
    }
   ],
   "source": [
    " ifr (136596,5732) #passing arguments\n",
    "district = \"is Mumbai\"\n",
    "print (\"district\", district)"
   ]
  },
  {
   "cell_type": "code",
   "execution_count": 18,
   "metadata": {},
   "outputs": [],
   "source": [
    "#Function to calculate the CMR \n",
    "\n",
    "def cmr(deaths,total_population) :\n",
    "    \n",
    "    cmr = (deaths/total_population)*1000\n",
    "    \n",
    "    print(\"The CMR = {}%\".format(cmr))"
   ]
  },
  {
   "cell_type": "code",
   "execution_count": 19,
   "metadata": {},
   "outputs": [
    {
     "name": "stdout",
     "output_type": "stream",
     "text": [
      "The CMR = 41.96316143957363%\n",
      "district is Mumbai\n"
     ]
    }
   ],
   "source": [
    "cmr (5732,136596) #passing arguments\n",
    "district = \"is Mumbai\"\n",
    "print(\"district\",district)"
   ]
  },
  {
   "cell_type": "markdown",
   "metadata": {},
   "source": [
    "In session exercise \n",
    "\n",
    "Create sample ( 5 elements each) data from corona live data (MyGov) -\n",
    "\n",
    "List 1 : Names of state, in order as placed\n",
    "\n",
    "List 2 : Having infected numbers of the states in List 1\n",
    "\n",
    "Tuple : Numbers in recovered, state wise\n",
    "\n",
    "Dictionary - State : Infected "
   ]
  },
  {
   "cell_type": "code",
   "execution_count": 31,
   "metadata": {},
   "outputs": [],
   "source": [
    "names_of_states = [\"Delhi\", \"Goa\", \"Kerala\", \"Madhya_Pradesh\", \"West_Bengal\"]  #list of states being taken into consideration\n",
    "infected_in_states= [94695, 1482, 4964, 14297, 20488] # list for infected numbers\n",
    "recovered_in_states = (65624, 734, 2841, 11049, 13571 ) #tuple for recovered\n",
    "states_and_infected = { \"Delhi\" : 26148, \"Goa\" : 744, \"Kerala\" : 2098, \"Madhya_Pradesh\" : 2655, \"West_Bengal\" : 6200 }"
   ]
  },
  {
   "cell_type": "markdown",
   "metadata": {},
   "source": []
  },
  {
   "cell_type": "code",
   "execution_count": null,
   "metadata": {},
   "outputs": [],
   "source": []
  },
  {
   "cell_type": "code",
   "execution_count": null,
   "metadata": {},
   "outputs": [],
   "source": []
  }
 ],
 "metadata": {
  "kernelspec": {
   "display_name": "Python 3",
   "language": "python",
   "name": "python3"
  },
  "language_info": {
   "codemirror_mode": {
    "name": "ipython",
    "version": 3
   },
   "file_extension": ".py",
   "mimetype": "text/x-python",
   "name": "python",
   "nbconvert_exporter": "python",
   "pygments_lexer": "ipython3",
   "version": "3.8.3"
  }
 },
 "nbformat": 4,
 "nbformat_minor": 4
}
